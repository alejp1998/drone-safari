{
 "cells": [
  {
   "cell_type": "markdown",
   "id": "4ec95ea0",
   "metadata": {},
   "source": [
    "# Wild Drone LLM Workshop: Part 1 - Travel Assistant Agent\n",
    "\n",
    "Welcome! In this hands-on workshop, you'll build your first AI agent that can help plan trips.\n",
    "\n",
    "## What You'll Build\n",
    "\n",
    "A smart travel assistant that:\n",
    "- Checks weather forecasts\n",
    "- Compares flight and train prices  \n",
    "- Makes recommendations based on cost and environment\n",
    "\n",
    "## Learning Journey\n",
    "\n",
    "1. **Talk to an LLM** - See how language models work\n",
    "2. **Add Tools** - Give your AI \"superpowers\" \n",
    "3. **Build an Agent** - Create a complete travel assistant\n",
    "4. **Experiment** - Modify and improve your agent\n",
    "\n",
    "Let's start coding!"
   ]
  },
  {
   "cell_type": "markdown",
   "id": "4fb0f0f0",
   "metadata": {},
   "source": [
    "## Setup: Get Your API Key\n",
    "\n",
    "You need a **free Gemini API key** from: https://aistudio.google.com/app/apikey\n",
    "\n",
    "**Quick Setup:**\n",
    "1. Copy `.env.example` to `.env`\n",
    "2. Add your key: `GEMINI_API_KEY=your_key_here`\n",
    "3. Run the cells below\n",
    "\n",
    "**Alternative:** Set in terminal: `export GEMINI_API_KEY=your_key_here`"
   ]
  },
  {
   "cell_type": "code",
   "execution_count": 1,
   "id": "b1dc2266",
   "metadata": {},
   "outputs": [
    {
     "name": "stdout",
     "output_type": "stream",
     "text": [
      "Defaulting to user installation because normal site-packages is not writeable\n",
      "Requirement already satisfied: litellm in /home/alejp/.local/lib/python3.10/site-packages (1.76.0)\n",
      "Requirement already satisfied: matplotlib in /usr/lib/python3/dist-packages (3.5.1)\n",
      "Requirement already satisfied: numpy in /usr/lib/python3/dist-packages (1.21.5)\n",
      "Requirement already satisfied: python-dotenv in /home/alejp/.local/lib/python3.10/site-packages (1.1.1)\n",
      "Requirement already satisfied: openai>=1.99.5 in /home/alejp/.local/lib/python3.10/site-packages (from litellm) (1.102.0)\n",
      "Requirement already satisfied: jinja2<4.0.0,>=3.1.2 in /home/alejp/.local/lib/python3.10/site-packages (from litellm) (3.1.6)\n",
      "Requirement already satisfied: jsonschema<5.0.0,>=4.22.0 in /home/alejp/.local/lib/python3.10/site-packages (from litellm) (4.25.1)\n",
      "Requirement already satisfied: tiktoken>=0.7.0 in /home/alejp/.local/lib/python3.10/site-packages (from litellm) (0.11.0)\n",
      "Requirement already satisfied: tokenizers in /home/alejp/.local/lib/python3.10/site-packages (from litellm) (0.22.0)\n",
      "Requirement already satisfied: pydantic<3.0.0,>=2.5.0 in /home/alejp/.local/lib/python3.10/site-packages (from litellm) (2.11.7)\n",
      "Requirement already satisfied: httpx>=0.23.0 in /home/alejp/.local/lib/python3.10/site-packages (from litellm) (0.28.1)\n",
      "Requirement already satisfied: click in /usr/lib/python3/dist-packages (from litellm) (8.0.3)\n",
      "Requirement already satisfied: importlib-metadata>=6.8.0 in /home/alejp/.local/lib/python3.10/site-packages (from litellm) (8.7.0)\n",
      "Requirement already satisfied: aiohttp>=3.10 in /home/alejp/.local/lib/python3.10/site-packages (from litellm) (3.12.15)\n",
      "Requirement already satisfied: aiosignal>=1.4.0 in /home/alejp/.local/lib/python3.10/site-packages (from aiohttp>=3.10->litellm) (1.4.0)\n",
      "Requirement already satisfied: attrs>=17.3.0 in /home/alejp/.local/lib/python3.10/site-packages (from aiohttp>=3.10->litellm) (25.3.0)\n",
      "Requirement already satisfied: propcache>=0.2.0 in /home/alejp/.local/lib/python3.10/site-packages (from aiohttp>=3.10->litellm) (0.3.2)\n",
      "Requirement already satisfied: aiohappyeyeballs>=2.5.0 in /home/alejp/.local/lib/python3.10/site-packages (from aiohttp>=3.10->litellm) (2.6.1)\n",
      "Requirement already satisfied: frozenlist>=1.1.1 in /usr/lib/python3/dist-packages (from aiohttp>=3.10->litellm) (1.2.0)\n",
      "Requirement already satisfied: multidict<7.0,>=4.5 in /usr/lib/python3/dist-packages (from aiohttp>=3.10->litellm) (5.1.0)\n",
      "Requirement already satisfied: async-timeout<6.0,>=4.0 in /usr/lib/python3/dist-packages (from aiohttp>=3.10->litellm) (4.0.1)\n",
      "Requirement already satisfied: yarl<2.0,>=1.17.0 in /home/alejp/.local/lib/python3.10/site-packages (from aiohttp>=3.10->litellm) (1.20.1)\n",
      "Requirement already satisfied: idna in /usr/lib/python3/dist-packages (from httpx>=0.23.0->litellm) (3.3)\n",
      "Requirement already satisfied: httpcore==1.* in /home/alejp/.local/lib/python3.10/site-packages (from httpx>=0.23.0->litellm) (1.0.9)\n",
      "Requirement already satisfied: certifi in /usr/lib/python3/dist-packages (from httpx>=0.23.0->litellm) (2020.6.20)\n",
      "Requirement already satisfied: anyio in /home/alejp/.local/lib/python3.10/site-packages (from httpx>=0.23.0->litellm) (4.10.0)\n",
      "Requirement already satisfied: h11>=0.16 in /home/alejp/.local/lib/python3.10/site-packages (from httpcore==1.*->httpx>=0.23.0->litellm) (0.16.0)\n",
      "Requirement already satisfied: zipp>=3.20 in /home/alejp/.local/lib/python3.10/site-packages (from importlib-metadata>=6.8.0->litellm) (3.23.0)\n",
      "Requirement already satisfied: MarkupSafe>=2.0 in /usr/lib/python3/dist-packages (from jinja2<4.0.0,>=3.1.2->litellm) (2.0.1)\n",
      "Requirement already satisfied: jsonschema-specifications>=2023.03.6 in /home/alejp/.local/lib/python3.10/site-packages (from jsonschema<5.0.0,>=4.22.0->litellm) (2025.4.1)\n",
      "Requirement already satisfied: referencing>=0.28.4 in /home/alejp/.local/lib/python3.10/site-packages (from jsonschema<5.0.0,>=4.22.0->litellm) (0.36.2)\n",
      "Requirement already satisfied: rpds-py>=0.7.1 in /home/alejp/.local/lib/python3.10/site-packages (from jsonschema<5.0.0,>=4.22.0->litellm) (0.27.1)\n",
      "Requirement already satisfied: sniffio in /home/alejp/.local/lib/python3.10/site-packages (from openai>=1.99.5->litellm) (1.3.1)\n",
      "Requirement already satisfied: distro<2,>=1.7.0 in /usr/lib/python3/dist-packages (from openai>=1.99.5->litellm) (1.7.0)\n",
      "Requirement already satisfied: jiter<1,>=0.4.0 in /home/alejp/.local/lib/python3.10/site-packages (from openai>=1.99.5->litellm) (0.10.0)\n",
      "Requirement already satisfied: typing-extensions<5,>=4.11 in /home/alejp/.local/lib/python3.10/site-packages (from openai>=1.99.5->litellm) (4.15.0)\n",
      "Requirement already satisfied: tqdm>4 in /home/alejp/.local/lib/python3.10/site-packages (from openai>=1.99.5->litellm) (4.67.1)\n",
      "Requirement already satisfied: annotated-types>=0.6.0 in /home/alejp/.local/lib/python3.10/site-packages (from pydantic<3.0.0,>=2.5.0->litellm) (0.7.0)\n",
      "Requirement already satisfied: typing-inspection>=0.4.0 in /home/alejp/.local/lib/python3.10/site-packages (from pydantic<3.0.0,>=2.5.0->litellm) (0.4.1)\n",
      "Requirement already satisfied: pydantic-core==2.33.2 in /home/alejp/.local/lib/python3.10/site-packages (from pydantic<3.0.0,>=2.5.0->litellm) (2.33.2)\n",
      "Requirement already satisfied: requests>=2.26.0 in /home/alejp/.local/lib/python3.10/site-packages (from tiktoken>=0.7.0->litellm) (2.32.5)\n",
      "Requirement already satisfied: regex>=2022.1.18 in /home/alejp/.local/lib/python3.10/site-packages (from tiktoken>=0.7.0->litellm) (2025.8.29)\n",
      "Requirement already satisfied: huggingface-hub<1.0,>=0.16.4 in /home/alejp/.local/lib/python3.10/site-packages (from tokenizers->litellm) (0.34.4)\n",
      "Requirement already satisfied: exceptiongroup>=1.0.2 in /home/alejp/.local/lib/python3.10/site-packages (from anyio->httpx>=0.23.0->litellm) (1.3.0)\n",
      "Requirement already satisfied: fsspec>=2023.5.0 in /home/alejp/.local/lib/python3.10/site-packages (from huggingface-hub<1.0,>=0.16.4->tokenizers->litellm) (2025.7.0)\n",
      "Requirement already satisfied: filelock in /home/alejp/.local/lib/python3.10/site-packages (from huggingface-hub<1.0,>=0.16.4->tokenizers->litellm) (3.19.1)\n",
      "Requirement already satisfied: packaging>=20.9 in /home/alejp/.local/lib/python3.10/site-packages (from huggingface-hub<1.0,>=0.16.4->tokenizers->litellm) (25.0)\n",
      "Requirement already satisfied: hf-xet<2.0.0,>=1.1.3 in /home/alejp/.local/lib/python3.10/site-packages (from huggingface-hub<1.0,>=0.16.4->tokenizers->litellm) (1.1.9)\n",
      "Requirement already satisfied: pyyaml>=5.1 in /usr/lib/python3/dist-packages (from huggingface-hub<1.0,>=0.16.4->tokenizers->litellm) (5.4.1)\n",
      "Requirement already satisfied: urllib3<3,>=1.21.1 in /usr/lib/python3/dist-packages (from requests>=2.26.0->tiktoken>=0.7.0->litellm) (1.26.5)\n",
      "Requirement already satisfied: charset_normalizer<4,>=2 in /usr/lib/python3/dist-packages (from requests>=2.26.0->tiktoken>=0.7.0->litellm) (2.0.6)\n"
     ]
    }
   ],
   "source": [
    "# Install required packages\n",
    "!pip install litellm matplotlib numpy python-dotenv\n",
    "\n",
    "# Note: If using OpenAI instead of Gemini, also install:\n",
    "# !pip install openai"
   ]
  },
  {
   "cell_type": "code",
   "execution_count": 13,
   "id": "e00a8e87",
   "metadata": {},
   "outputs": [],
   "source": [
    "# Configuration and Setup\n",
    "import os\n",
    "import litellm\n",
    "from dotenv import load_dotenv\n",
    "from llm_agents import add_parameters_schema, LLMAgent\n",
    "\n",
    "# Load environment variables from .env file (if it exists)\n",
    "load_dotenv()\n",
    "\n",
    "# MODEL CONFIGURATION\n",
    "# Get Gemini API key from environment variable\n",
    "gemini_api_key = os.getenv('GEMINI_API_KEY')\n",
    "# Set the API key for litellm\n",
    "os.environ['GEMINI_API_KEY'] = gemini_api_key\n",
    "# Set the model to use throughout the workshop\n",
    "model_name = \"gemini/gemini-2.5-flash\"  # Using stable model"
   ]
  },
  {
   "cell_type": "markdown",
   "id": "dcf9efd5",
   "metadata": {},
   "source": [
    "# Understanding LLMs\n",
    "\n",
    "## Your First LLM Conversation\n",
    "Let's start simple - ask an LLM a question and see how it responds. Try changing the prompt, temperature, or max_tokens below!"
   ]
  },
  {
   "cell_type": "code",
   "execution_count": 14,
   "id": "5351c079",
   "metadata": {},
   "outputs": [
    {
     "name": "stdout",
     "output_type": "stream",
     "text": [
      "Potatoes, eggs, onion, olive oil, salt.\n"
     ]
    }
   ],
   "source": [
    "system_prompt = \"You are a helpful cooking assistant. Answer in a very concise manner.\"\n",
    "user_prompt = \"What ingredients do I need to make a Spanish tortilla?\"\n",
    "\n",
    "response = litellm.completion(\n",
    "        model=model_name,\n",
    "        messages=[\n",
    "            {\"role\": \"system\", \"content\": system_prompt},\n",
    "            {\"role\": \"user\", \"content\": user_prompt}\n",
    "        ],\n",
    "        max_tokens=1000,  # Shorter responses\n",
    "        temperature=0.1, # Lower temperature for more factual responses\n",
    "    )\n",
    "print(response.choices[0].message.content)"
   ]
  },
  {
   "cell_type": "markdown",
   "id": "aa871afe",
   "metadata": {},
   "source": [
    "## The Problem: LLMs Are Limited to their Training Data\n",
    "\n",
    "LLMs can't:\n",
    "- Get current weather 🌤️\n",
    "- Access the internet 🌐\n",
    "\n",
    "They will either say they don't have the requested information, or hallucinate a response."
   ]
  },
  {
   "cell_type": "code",
   "execution_count": 33,
   "id": "74946985",
   "metadata": {},
   "outputs": [
    {
     "name": "stdout",
     "output_type": "stream",
     "text": [
      "🤖 Testing our Weather-Uninformed Travel Agent:\n",
      "--------------------------------------------------\n",
      "- User said: I'm hesitating between going to Paris or Rome for a 3-day trip next weekend. Which destination should I choose?\n",
      "- Available tools: []\n",
      "- Final Answer (no tools used): Check the specific forecast for Paris and Rome next weekend! Rome often has milder weather, but verify for sunshine and temperatures to pick your ideal trip.\n"
     ]
    }
   ],
   "source": [
    "# Let's create a travel agent with no tools\n",
    "weather_uninformed_travel_agent = LLMAgent(model=model_name)\n",
    "\n",
    "# Set an empty list of tools (no tools)\n",
    "weather_uninformed_travel_agent.tools = []\n",
    "\n",
    "# Define a system prompt for the travel agent\n",
    "weather_uninformed_travel_agent.system_prompt = \"\"\"\n",
    "You are a helpful travel planning assistant.\n",
    "Help users decide between travel destinations based on the weather forecast.\n",
    "Answer in a friendly and concise manner (max 30 words).\n",
    "\"\"\"\n",
    "\n",
    "# Test the uninformed travel agent\n",
    "question = \"I'm hesitating between going to Paris or Rome for a 3-day trip next weekend. Which destination should I choose?\"\n",
    "\n",
    "print(\"🤖 Testing our Weather-Uninformed Travel Agent:\")\n",
    "print(\"-\" * 50)\n",
    "response = weather_uninformed_travel_agent.chat(question)"
   ]
  },
  {
   "cell_type": "markdown",
   "id": "2835e57a",
   "metadata": {},
   "source": [
    "**Solution**: Give LLMs access to tools so they can get updated information from APIs such as weather forecasts.\n",
    "\n",
    "## How Tool Calling Works\n",
    "\n",
    "1. **Define tools** - Tell the LLM what functions it can use\n",
    "2. **LLM chooses** - It decides which tool to call based on the user's question\n",
    "3. **Get results** - The function runs and returns real data\n",
    "4. **Smart response** - LLM uses the fresh data to give informed answers\n",
    "\n",
    "Let's build a weather-powered travel agent! 🌦️✈️\n",
    "\n",
    "We'll start by creating a mock function that provides weather forecasts for the next N days in any city.\n",
    "\n",
    "> **📝 Important Note**: The tools in this workshop are **mock functions** that generate random data for educational purposes. In real applications, these would connect to actual APIs like:\n",
    "> - **Weather**: OpenWeatherMap, AccuWeather APIs\n",
    "> - **Flights**: Skyscanner, Amadeus APIs  \n",
    "> - **Trains**: National railway APIs\n",
    "> - **General**: Web search APIs to get current information\n",
    "> \n",
    "> The concepts you learn here apply directly to building agents with real data sources!"
   ]
  },
  {
   "cell_type": "code",
   "execution_count": 21,
   "id": "def7b22e",
   "metadata": {},
   "outputs": [],
   "source": [
    "# Our First Tool: Weather Forecast\n",
    "\n",
    "@add_parameters_schema(\n",
    "    city={\"type\": \"string\", \"description\": \"City name\"},\n",
    "    days={\"type\": \"integer\", \"description\": \"Number of days (1-7)\"}\n",
    ")\n",
    "def get_weather_forecast(city: str, days: int = 3) -> str:\n",
    "    \"\"\"Get weather forecast for a city\"\"\"\n",
    "    import random\n",
    "    \n",
    "    # Possible weather conditions\n",
    "    conditions = [\"Sunny\", \"Cloudy\", \"Rainy\", \"Snowy\"]\n",
    "    \n",
    "    # Generate random forecast\n",
    "    result = f\"Weather for {city}:\\n\"\n",
    "    for day in range(1, days + 1):\n",
    "        weather = random.choice(conditions)\n",
    "        temp = random.randint(5, 25)  # Temperature in Celsius\n",
    "        result += f\"Day {day}: {weather}, {temp}°C\\n\"\n",
    "    \n",
    "    return result"
   ]
  },
  {
   "cell_type": "code",
   "execution_count": 22,
   "id": "5ee78f9c",
   "metadata": {},
   "outputs": [
    {
     "name": "stdout",
     "output_type": "stream",
     "text": [
      "Weather for Paris:\n",
      "Day 1: Snowy, 23°C\n",
      "Day 2: Snowy, 12°C\n",
      "Day 3: Sunny, 20°C\n",
      "\n"
     ]
    }
   ],
   "source": [
    "# Test the tool: weather forecast for Paris for 3 days\n",
    "weather_forecast = get_weather_forecast(\"Paris\", 3)\n",
    "print(weather_forecast)"
   ]
  },
  {
   "cell_type": "code",
   "execution_count": 34,
   "id": "6487d163",
   "metadata": {},
   "outputs": [
    {
     "name": "stdout",
     "output_type": "stream",
     "text": [
      "🤖 Testing our Weather-Informed Travel Agent:\n",
      "--------------------------------------------------\n",
      "- User said: I'm hesitating between going to Paris or Rome for a 3-day trip next weekend. Which destination should I choose?\n",
      "- Available tools: ['get_weather_forecast']\n",
      "- Tools called: ['get_weather_forecast', 'get_weather_forecast']\n",
      "- Executing get_weather_forecast with args: {'city': 'Paris', 'days': 3}\n",
      "- Tool result: Weather for Paris:\n",
      "Day 1: Cloudy, 16°C\n",
      "Day 2: Snowy, 18°C\n",
      "Day 3: Snowy, 21°C\n",
      "\n",
      "- Executing get_weather_forecast with args: {'days': 3, 'city': 'Rome'}\n",
      "- Tool result: Weather for Rome:\n",
      "Day 1: Rainy, 14°C\n",
      "Day 2: Cloudy, 15°C\n",
      "Day 3: Rainy, 11°C\n",
      "\n",
      "- Final Answer: For next weekend, Paris will be snowy but warmer (16-21°C), while Rome will be rainy and cooler (11-15°C). Choose Paris for a potentially picturesque, snowy trip!\n"
     ]
    }
   ],
   "source": [
    "# Now let's create and test a travel agent that is weather-informed\n",
    "weather_informed_travel_agent = LLMAgent(model=model_name)\n",
    "\n",
    "# Connect the tools defined in the notebook\n",
    "weather_informed_travel_agent.tools = [get_weather_forecast]\n",
    "\n",
    "# Set the system prompt defined in the notebook\n",
    "weather_informed_travel_agent.system_prompt = \"\"\"\n",
    "You are a helpful travel planning assistant.\n",
    "Your task is to help users decide between travel destinations.\n",
    "Use the tools provided to make an informed recommendation.\n",
    "Answer in a friendly and concise manner (max 30 words).\n",
    "\"\"\"\n",
    "# Test our travel agent\n",
    "question = \"\"\"I'm hesitating between going to Paris or Rome for a 3-day trip next weekend. Which destination should I choose?\"\"\"\n",
    "\n",
    "print(\"🤖 Testing our Weather-Informed Travel Agent:\")\n",
    "print(\"-\" * 50)\n",
    "\n",
    "# Get a response from the travel agent\n",
    "response = weather_informed_travel_agent.chat(question)"
   ]
  },
  {
   "cell_type": "markdown",
   "id": "63b3892e",
   "metadata": {},
   "source": [
    "# 🚀 Advanced Exercise: Compare Travel Options\n",
    "\n",
    "Now let's add flight and train price checking! Your agent will help users choose between different travel options.\n",
    "\n",
    "## Your Tasks\n",
    "\n",
    "1. **Study the tools below** - See how they work\n",
    "2. **Write a system prompt** - Tell your agent how to help users  \n",
    "3. **Connect the tools** - Add all tools to your agent\n",
    "4. **Test it out** - Try different travel questions\n",
    "\n",
    "The tools give realistic prices and CO2 emissions. Your job: make an agent that helps users choose wisely! 🌱💰\n",
    "\n",
    "> **🎭 Remember**: These tools generate random data for learning purposes. Real travel agents would use live APIs to get actual prices, schedules, and availability from airlines, booking sites, and transportation providers."
   ]
  },
  {
   "cell_type": "code",
   "execution_count": 25,
   "id": "2a950f30",
   "metadata": {},
   "outputs": [
    {
     "name": "stdout",
     "output_type": "stream",
     "text": [
      "✈️ Flight Paris → Rome: EuroWings €324 (3h, CO2: 165kg)\n"
     ]
    }
   ],
   "source": [
    "# Tool 1: Flight Prices\n",
    "@add_parameters_schema(\n",
    "    origin={\"type\": \"string\", \"description\": \"Departure city\"},\n",
    "    destination={\"type\": \"string\", \"description\": \"Destination city\"}\n",
    ")\n",
    "def get_flight_prices(origin: str, destination: str) -> str:\n",
    "    \"\"\"Get flight prices and environmental impact\"\"\"\n",
    "    import random\n",
    "    \n",
    "    # Simple price calculation\n",
    "    price = random.randint(150, 400)\n",
    "    airline = random.choice([\"BudgetAir\", \"SkyConnect\", \"EuroWings\"])\n",
    "    \n",
    "    # Flight details\n",
    "    hours = random.randint(2, 8)\n",
    "    co2_kg = random.randint(80, 200)  # CO2 emissions in kg\n",
    "    \n",
    "    return f\"✈️ Flight {origin} → {destination}: {airline} €{price} ({hours}h, CO2: {co2_kg}kg)\"\n",
    "\n",
    "# Test it!\n",
    "print(get_flight_prices(\"Paris\", \"Rome\"))"
   ]
  },
  {
   "cell_type": "code",
   "execution_count": 26,
   "id": "37e89e03",
   "metadata": {},
   "outputs": [
    {
     "name": "stdout",
     "output_type": "stream",
     "text": [
      "🚂 Train Paris → Rome: EuroRail €188 (10h, CO2: 11kg)\n"
     ]
    }
   ],
   "source": [
    "# Tool 2: Train Prices  \n",
    "@add_parameters_schema(\n",
    "    origin={\"type\": \"string\", \"description\": \"Departure city\"},\n",
    "    destination={\"type\": \"string\", \"description\": \"Destination city\"}\n",
    ")\n",
    "def get_train_prices(origin: str, destination: str) -> str:\n",
    "    \"\"\"Get train prices and environmental impact\"\"\"\n",
    "    import random\n",
    "    \n",
    "    # Some routes don't exist\n",
    "    no_train_routes = [(\"London\", \"Rome\"), (\"Madrid\", \"Stockholm\")]\n",
    "    if (origin, destination) in no_train_routes or (destination, origin) in no_train_routes:\n",
    "        return f\"🚫 No train route from {origin} to {destination}\"\n",
    "    \n",
    "    # Simple price calculation (usually cheaper than flights)\n",
    "    price = random.randint(80, 250)\n",
    "    operator = random.choice([\"EuroRail\", \"HighSpeed\", \"RegionalTrain\"])\n",
    "    \n",
    "    # Train details  \n",
    "    hours = random.randint(4, 12)\n",
    "    co2_kg = random.randint(10, 40)  # Much lower CO2 than flights!\n",
    "    \n",
    "    return f\"🚂 Train {origin} → {destination}: {operator} €{price} ({hours}h, CO2: {co2_kg}kg)\"\n",
    "\n",
    "# Test it!\n",
    "print(get_train_prices(\"Paris\", \"Rome\"))"
   ]
  },
  {
   "cell_type": "code",
   "execution_count": 35,
   "id": "7f948244",
   "metadata": {},
   "outputs": [],
   "source": [
    "# TODO: STUDENT TASK - Create and configure your enhanced agent\n",
    "# 1. Create a new LLMAgent instance\n",
    "enhanced_travel_agent = LLMAgent(model=model_name)\n",
    "\n",
    "# 2. Add the weather, flight and trains tool to the agent\n",
    "\n",
    "# 3. Write your enhanced system prompt here to consider cost and sustainability\n",
    "enhanced_travel_agent.system_prompt = \"\"\"\n",
    "Write your system prompt here!\n",
    "\n",
    "Consider including:\n",
    "- Your agent's role and personality\n",
    "- How to balance cost vs environmental impact  \n",
    "- What factors to prioritize (price, CO2, time, comfort)\n",
    "- How to structure recommendations\n",
    "- Tone (friendly, professional, expert, etc.)\n",
    "\"\"\""
   ]
  },
  {
   "cell_type": "markdown",
   "id": "c5e7c8f4",
   "metadata": {},
   "source": [
    "## 🧪 Test Your Enhanced Agent\n",
    "\n",
    "Try these questions and see how your agent balances cost vs environment:\n",
    "\n",
    "**Test Questions:**\n",
    "1. \"I want to travel from London to Barcelona. I care about cost and environment.\"\n",
    "2. \"Paris to Amsterdam - I'm on a budget but also care about the planet.\"  \n",
    "3. \"Madrid to Rome - what are my options?\"\n",
    "\n",
    "**What to Notice:**\n",
    "- Does it check all options (weather, flights, trains)?\n",
    "- How does it explain trade-offs?\n",
    "- Is the advice helpful and clear?"
   ]
  },
  {
   "cell_type": "code",
   "execution_count": 36,
   "id": "116be51e",
   "metadata": {},
   "outputs": [
    {
     "name": "stdout",
     "output_type": "stream",
     "text": [
      "- User said: \n",
      "I'm hesitating between traveling from Munich to Paris or Rome for a 3-day trip next weekend. Which destination should I choose?\n",
      "\n",
      "- Available tools: []\n",
      "- Final Answer (no tools used): You are 'WanderWise', an expert and friendly travel planning assistant. Your primary goal is to help users make informed travel decisions by providing comprehensive, balanced, and personalized recommendations.\n",
      "\n",
      "**Core Principles:**\n",
      "1.  **User-Centric:** Always prioritize the user's stated needs and preferences. If preferences are unclear, ask clarifying questions.\n",
      "2.  **Holistic Evaluation:** Consider a range of factors for each option:\n",
      "    *   **Travel Logistics:** Travel time, cost (transportation & accommodation estimates), CO2 emissions, convenience, comfort.\n",
      "    *   **Destination Experience:** Type of activities, cultural offerings, food, general atmosphere/vibe, suitability for the trip duration.\n",
      "3.  **Environmental Awareness:** Always include CO2 emissions as a key factor for transportation options. Encourage lower-carbon alternatives (e.g., train over flight) where practical, but balance this with other user priorities like time and cost.\n",
      "4.  **Prioritization for Short Trips (like 3 days):** For short trips, **travel time** is paramount to maximize time at the destination. **Efficiency** and **convenience** are highly valued.\n",
      "5.  **Recommendation Structure:**\n",
      "    *   Start with a friendly greeting.\n",
      "    *   Provide a clear comparison of the options, broken down by relevant categories (e.g., Travel Logistics, Destination Experience).\n",
      "    *   Highlight the pros and cons of each choice.\n",
      "    *   Offer a preliminary recommendation or ask targeted clarifying questions to help the user make their final decision.\n",
      "    *   Maintain an expert, helpful, and approachable tone throughout.\n",
      "6.  **Cost vs. Environmental Impact:** When presenting options, clearly state both the estimated cost and CO2 impact. If there's a trade-off (e.g., cheaper but higher CO2, or more expensive but lower CO2), explain it. Do not make the decision for the user on this trade-off unless they explicitly state a preference; instead, present the facts clearly.\n"
     ]
    },
    {
     "data": {
      "text/plain": [
       "\"You are 'WanderWise', an expert and friendly travel planning assistant. Your primary goal is to help users make informed travel decisions by providing comprehensive, balanced, and personalized recommendations.\\n\\n**Core Principles:**\\n1.  **User-Centric:** Always prioritize the user's stated needs and preferences. If preferences are unclear, ask clarifying questions.\\n2.  **Holistic Evaluation:** Consider a range of factors for each option:\\n    *   **Travel Logistics:** Travel time, cost (transportation & accommodation estimates), CO2 emissions, convenience, comfort.\\n    *   **Destination Experience:** Type of activities, cultural offerings, food, general atmosphere/vibe, suitability for the trip duration.\\n3.  **Environmental Awareness:** Always include CO2 emissions as a key factor for transportation options. Encourage lower-carbon alternatives (e.g., train over flight) where practical, but balance this with other user priorities like time and cost.\\n4.  **Prioritization for Short Trips (like 3 days):** For short trips, **travel time** is paramount to maximize time at the destination. **Efficiency** and **convenience** are highly valued.\\n5.  **Recommendation Structure:**\\n    *   Start with a friendly greeting.\\n    *   Provide a clear comparison of the options, broken down by relevant categories (e.g., Travel Logistics, Destination Experience).\\n    *   Highlight the pros and cons of each choice.\\n    *   Offer a preliminary recommendation or ask targeted clarifying questions to help the user make their final decision.\\n    *   Maintain an expert, helpful, and approachable tone throughout.\\n6.  **Cost vs. Environmental Impact:** When presenting options, clearly state both the estimated cost and CO2 impact. If there's a trade-off (e.g., cheaper but higher CO2, or more expensive but lower CO2), explain it. Do not make the decision for the user on this trade-off unless they explicitly state a preference; instead, present the facts clearly.\""
      ]
     },
     "execution_count": 36,
     "metadata": {},
     "output_type": "execute_result"
    }
   ],
   "source": [
    "# Test your enhanced travel agent here!\n",
    "# Make sure you've completed the agent creation above first\n",
    "\n",
    "test_question = \"\"\"\n",
    "I'm hesitating between traveling from Munich to Paris or Rome for a 3-day trip next weekend. Which destination should I choose?\n",
    "\"\"\"\n",
    "\n",
    "enhanced_travel_agent.chat(test_question)"
   ]
  },
  {
   "cell_type": "code",
   "execution_count": null,
   "id": "d45f5a0c",
   "metadata": {},
   "outputs": [],
   "source": []
  },
  {
   "cell_type": "code",
   "execution_count": null,
   "id": "0ca6f3de",
   "metadata": {},
   "outputs": [],
   "source": []
  },
  {
   "cell_type": "code",
   "execution_count": null,
   "id": "c877adc9",
   "metadata": {},
   "outputs": [],
   "source": []
  },
  {
   "cell_type": "code",
   "execution_count": null,
   "id": "2b224a28",
   "metadata": {},
   "outputs": [],
   "source": []
  },
  {
   "cell_type": "code",
   "execution_count": null,
   "id": "6ec09b8b",
   "metadata": {},
   "outputs": [],
   "source": []
  },
  {
   "cell_type": "code",
   "execution_count": null,
   "id": "818cb531",
   "metadata": {},
   "outputs": [],
   "source": []
  },
  {
   "cell_type": "code",
   "execution_count": null,
   "id": "21470201",
   "metadata": {},
   "outputs": [],
   "source": []
  },
  {
   "cell_type": "markdown",
   "id": "9ddfaa97",
   "metadata": {},
   "source": [
    "## Provided solution"
   ]
  },
  {
   "cell_type": "code",
   "execution_count": 40,
   "id": "a99c4a9b",
   "metadata": {},
   "outputs": [],
   "source": [
    "# Provided solution to the advanced travel agent task\n",
    "# 1. Create a new LLMAgent instance\n",
    "enhanced_travel_agent = LLMAgent(model=model_name)\n",
    "# 2. Add the weather, flight and trains tool to the agent\n",
    "enhanced_travel_agent.tools = [get_weather_forecast, get_flight_prices, get_train_prices]\n",
    "# 3. Write your enhanced system prompt here to consider cost and sustainability\n",
    "enhanced_travel_agent.system_prompt = \"\"\"\n",
    "You are an expert travel planning assistant.\n",
    "Your task is to help users decide between travel destinations.\n",
    "Use the tools provided to make an informed recommendation.\n",
    "Prioritize affordable and low-CO2 options, but also consider user comfort.\n",
    "Answer in a friendly and concise manner (max 50 words).\n",
    "\"\"\""
   ]
  },
  {
   "cell_type": "code",
   "execution_count": 42,
   "id": "28283bb2",
   "metadata": {},
   "outputs": [
    {
     "name": "stdout",
     "output_type": "stream",
     "text": [
      "🤖 Testing our Enhanced Travel Agent:\n",
      "--------------------------------------------------\n",
      "- User said: I'm hesitating between traveling from Munich to Paris or Rome for a 3-day trip next weekend. Which destination should I choose?\n",
      "- Available tools: ['get_weather_forecast', 'get_flight_prices', 'get_train_prices']\n",
      "- Tools called: ['get_flight_prices', 'get_train_prices', 'get_weather_forecast', 'get_flight_prices', 'get_train_prices', 'get_weather_forecast']\n",
      "- Executing get_flight_prices with args: {'origin': 'Munich', 'destination': 'Paris'}\n",
      "- Tool result: ✈️ Flight Munich → Paris: SkyConnect €248 (2h, CO2: 191kg)\n",
      "- Executing get_train_prices with args: {'origin': 'Munich', 'destination': 'Paris'}\n",
      "- Tool result: 🚂 Train Munich → Paris: HighSpeed €205 (7h, CO2: 24kg)\n",
      "- Executing get_weather_forecast with args: {'city': 'Paris', 'days': 3}\n",
      "- Tool result: Weather for Paris:\n",
      "Day 1: Cloudy, 11°C\n",
      "Day 2: Sunny, 9°C\n",
      "Day 3: Cloudy, 10°C\n",
      "\n",
      "- Executing get_flight_prices with args: {'destination': 'Rome', 'origin': 'Munich'}\n",
      "- Tool result: ✈️ Flight Munich → Rome: SkyConnect €333 (7h, CO2: 181kg)\n",
      "- Executing get_train_prices with args: {'origin': 'Munich', 'destination': 'Rome'}\n",
      "- Tool result: 🚂 Train Munich → Rome: RegionalTrain €98 (11h, CO2: 12kg)\n",
      "- Executing get_weather_forecast with args: {'days': 3, 'city': 'Rome'}\n",
      "- Tool result: Weather for Rome:\n",
      "Day 1: Cloudy, 13°C\n",
      "Day 2: Sunny, 11°C\n",
      "Day 3: Rainy, 25°C\n",
      "\n",
      "- Final Answer: For a 3-day trip, Paris by train (€205, 7h, 24kg CO2) offers a better balance of travel time and cost than Rome's 11-hour journey, letting you enjoy more of the city's cloudy/sunny 9-11°C weather.\n"
     ]
    }
   ],
   "source": [
    "# Test the provided solution\n",
    "question = \"I'm hesitating between traveling from Munich to Paris or Rome for a 3-day trip next weekend. Which destination should I choose?\"\n",
    "\n",
    "print(\"🤖 Testing our Enhanced Travel Agent:\")\n",
    "print(\"-\" * 50)\n",
    "response = enhanced_travel_agent.chat(question)"
   ]
  },
  {
   "cell_type": "code",
   "execution_count": null,
   "id": "b1904489",
   "metadata": {},
   "outputs": [],
   "source": []
  }
 ],
 "metadata": {
  "kernelspec": {
   "display_name": "Python 3",
   "language": "python",
   "name": "python3"
  },
  "language_info": {
   "codemirror_mode": {
    "name": "ipython",
    "version": 3
   },
   "file_extension": ".py",
   "mimetype": "text/x-python",
   "name": "python",
   "nbconvert_exporter": "python",
   "pygments_lexer": "ipython3",
   "version": "3.10.12"
  }
 },
 "nbformat": 4,
 "nbformat_minor": 5
}
